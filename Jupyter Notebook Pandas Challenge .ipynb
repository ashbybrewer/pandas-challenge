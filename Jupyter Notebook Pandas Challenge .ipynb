{
 "cells": [
  {
   "cell_type": "markdown",
   "id": "414f7d1d",
   "metadata": {},
   "source": [
    "import pandas as pd "
   ]
  },
  {
   "cell_type": "code",
   "execution_count": 9,
   "id": "e16087a6",
   "metadata": {},
   "outputs": [],
   "source": [
    "import pandas as pd "
   ]
  },
  {
   "cell_type": "code",
   "execution_count": 10,
   "id": "844de244",
   "metadata": {},
   "outputs": [],
   "source": [
    "#load the data into separate dataframes\n",
    "schools_df = pd.read_csv(\"Resources/schools_complete.csv\")\n",
    "students_df = pd.read_csv(\"Resources/students_complete.csv\")\n",
    "\n",
    "# Merge datasets on \"school_name\". \n",
    "school_data = pd.merge(students_df, schools_df, how=\"left\", on=[\"school_name\", \"school_name\"])\n"
   ]
  },
  {
   "cell_type": "code",
   "execution_count": 11,
   "id": "2f9aef5c",
   "metadata": {},
   "outputs": [],
   "source": [
    "#district summary calculations\n",
    "total_schools = schools_df[\"school_name\"].nunique()\n",
    "total_students = students_df[\"Student ID\"].count()\n",
    "total_budget = schools_df[\"budget\"].sum()\n",
    "avg_math_score = students_df[\"math_score\"].mean()\n",
    "avg_reading_score = students_df[\"reading_score\"].mean()\n",
    "perc_pass_math = (students_df[students_df[\"math_score\"] >= 70][\"Student ID\"].count() / total_students) * 100\n",
    "perc_pass_reading = (students_df[students_df[\"reading_score\"] >= 70][\"Student ID\"].count() / total_students) * 100\n",
    "overall_pass = students_df[(students_df[\"math_score\"] >= 70) & (students_df[\"reading_score\"] >= 70)][\"Student ID\"].count() / total_students * 100\n",
    "\n",
    "#Combine into df\n",
    "distrct_summary=pd.DataFrame({\n",
    "    \"Total Schools\": [total_schools],\n",
    "    \"Total Students\": [total_students],\n",
    "    \"Total Budget\": [total_budget],\n",
    "    \"Average Math Score\": [avg_math_score],\n",
    "    \"Average Reading Score\": [avg_reading_score],\n",
    "    \"% Passing Math\": [perc_pass_math],\n",
    "    \"% Passing Reading\": [perc_pass_reading],\n",
    "    \"% Overall Passing\": [overall_pass]\n",
    "})"
   ]
  },
  {
   "cell_type": "code",
   "execution_count": 12,
   "id": "9150e200",
   "metadata": {},
   "outputs": [],
   "source": [
    "#School Summary\n",
    "# Group by school name\n",
    "school_group = school_data.groupby(\"school_name\")\n",
    "\n",
    "# School type for each school\n",
    "school_type = school_group[\"type\"].first()\n",
    "\n",
    "# Total students for each school\n",
    "total_student_per_school = school_group.size()\n",
    "\n",
    "# Total budget for each school\n",
    "total_budget_per_school = school_group[\"budget\"].first()\n",
    "\n",
    "# Budget per student for each school\n",
    "per_student_budget = total_budget_per_school / total_student_per_school\n",
    "\n",
    "# Average math score for each school\n",
    "avg_math_score_school = school_group[\"math_score\"].mean()\n",
    "\n",
    "# Average reading score for each school\n",
    "avg_reading_score_school = school_group[\"reading_score\"].mean()\n",
    "\n",
    "# Percentage of students passing math in each school\n",
    "pass_math_school = school_data[school_data[\"math_score\"] >= 70].groupby(\"school_name\").size()\n",
    "perc_pass_math_school = (pass_math_school / total_student_per_school) * 100\n",
    "\n",
    "# Percentage of students passing reading in each school\n",
    "pass_reading_school = school_data[school_data[\"reading_score\"] >= 70].groupby(\"school_name\").size()\n",
    "perc_pass_reading_school = (pass_reading_school / total_student_per_school) * 100\n",
    "\n",
    "# Percentage of students passing both math and reading in each school\n",
    "overall_pass_school = school_data[(school_data[\"math_score\"] >= 70) & (school_data[\"reading_score\"] >= 70)].groupby(\"school_name\").size()\n",
    "overall_pass_school_perc = (overall_pass_school / total_student_per_school) * 100\n",
    "\n",
    "# Combining all the metrics into a new DataFrame\n",
    "per_school_summary = pd.DataFrame({\n",
    "    \"School Type\": school_type,\n",
    "    \"Total Students\": total_student_per_school,\n",
    "    \"Total School Budget\": total_budget_per_school,\n",
    "    \"Per Student Budget\": per_student_budget,\n",
    "    \"Average Math Score\": avg_math_score_school,\n",
    "    \"Average Reading Score\": avg_reading_score_school,\n",
    "    \"% Passing Math\": perc_pass_math_school,\n",
    "    \"% Passing Reading\": perc_pass_reading_school,\n",
    "    \"% Overall Passing\": overall_pass_school_perc\n",
    "})"
   ]
  },
  {
   "cell_type": "code",
   "execution_count": 13,
   "id": "f8406349",
   "metadata": {},
   "outputs": [
    {
     "name": "stdout",
     "output_type": "stream",
     "text": [
      "                    School Type  Total Students  Total School Budget  \\\n",
      "school_name                                                            \n",
      "Cabrera High School     Charter            1858              1081356   \n",
      "Thomas High School      Charter            1635              1043130   \n",
      "Griffin High School     Charter            1468               917500   \n",
      "Wilson High School      Charter            2283              1319574   \n",
      "Pena High School        Charter             962               585858   \n",
      "\n",
      "                     Per Student Budget  Average Math Score  \\\n",
      "school_name                                                   \n",
      "Cabrera High School               582.0           83.061895   \n",
      "Thomas High School                638.0           83.418349   \n",
      "Griffin High School               625.0           83.351499   \n",
      "Wilson High School                578.0           83.274201   \n",
      "Pena High School                  609.0           83.839917   \n",
      "\n",
      "                     Average Reading Score  % Passing Math  % Passing Reading  \\\n",
      "school_name                                                                     \n",
      "Cabrera High School              83.975780       94.133477          97.039828   \n",
      "Thomas High School               83.848930       93.272171          97.308869   \n",
      "Griffin High School              83.816757       93.392371          97.138965   \n",
      "Wilson High School               83.989488       93.867718          96.539641   \n",
      "Pena High School                 84.044699       94.594595          95.945946   \n",
      "\n",
      "                     % Overall Passing  \n",
      "school_name                             \n",
      "Cabrera High School          91.334769  \n",
      "Thomas High School           90.948012  \n",
      "Griffin High School          90.599455  \n",
      "Wilson High School           90.582567  \n",
      "Pena High School             90.540541  \n"
     ]
    }
   ],
   "source": [
    "#Highest Performing Schools\n",
    "# Sort the schools by % Overall Passing in descending order \n",
    "top_schools = per_school_summary.sort_values(\"% Overall Passing\", ascending=False).head(5)\n",
    "\n",
    "# Display the top 5 schools\n",
    "print(top_schools)\n"
   ]
  },
  {
   "cell_type": "code",
   "execution_count": 14,
   "id": "68a25311",
   "metadata": {},
   "outputs": [
    {
     "name": "stdout",
     "output_type": "stream",
     "text": [
      "                      School Type  Total Students  Total School Budget  \\\n",
      "school_name                                                              \n",
      "Rodriguez High School    District            3999              2547363   \n",
      "Figueroa High School     District            2949              1884411   \n",
      "Huang High School        District            2917              1910635   \n",
      "Hernandez High School    District            4635              3022020   \n",
      "Johnson High School      District            4761              3094650   \n",
      "\n",
      "                       Per Student Budget  Average Math Score  \\\n",
      "school_name                                                     \n",
      "Rodriguez High School               637.0           76.842711   \n",
      "Figueroa High School                639.0           76.711767   \n",
      "Huang High School                   655.0           76.629414   \n",
      "Hernandez High School               652.0           77.289752   \n",
      "Johnson High School                 650.0           77.072464   \n",
      "\n",
      "                       Average Reading Score  % Passing Math  \\\n",
      "school_name                                                    \n",
      "Rodriguez High School              80.744686       66.366592   \n",
      "Figueroa High School               81.158020       65.988471   \n",
      "Huang High School                  81.182722       65.683922   \n",
      "Hernandez High School              80.934412       66.752967   \n",
      "Johnson High School                80.966394       66.057551   \n",
      "\n",
      "                       % Passing Reading  % Overall Passing  \n",
      "school_name                                                  \n",
      "Rodriguez High School          80.220055          52.988247  \n",
      "Figueroa High School           80.739234          53.204476  \n",
      "Huang High School              81.316421          53.513884  \n",
      "Hernandez High School          80.862999          53.527508  \n",
      "Johnson High School            81.222432          53.539172  \n"
     ]
    }
   ],
   "source": [
    "#Lowest performing schools\n",
    "# Sort the schools by % Overall Passing in ascending order\n",
    "bottom_schools = per_school_summary.sort_values(\"% Overall Passing\").head(5)\n",
    "\n",
    "# Display the bottom 5 schools\n",
    "print(bottom_schools)\n"
   ]
  },
  {
   "cell_type": "code",
   "execution_count": 15,
   "id": "f966266d",
   "metadata": {
    "scrolled": true
   },
   "outputs": [],
   "source": [
    "#Scores by School Spending \n",
    "# Define the spending bins and group names\n",
    "spending_bins = [0, 585, 630, 645, 680]\n",
    "group_names = [\"<$585\", \"$585-630\", \"$630-645\", \"$645-680\"]\n",
    "\n",
    "# Categorize spending based on the bins\n",
    "per_school_summary[\"Spending Ranges (Per Student)\"] = pd.cut(per_school_summary[\"Per Student Budget\"], spending_bins, labels=group_names)\n",
    "\n",
    "# Calculate averages for desired columns\n",
    "spending_math_scores = per_school_summary.groupby([\"Spending Ranges (Per Student)\"])[\"Average Math Score\"].mean()\n",
    "spending_reading_scores = per_school_summary.groupby([\"Spending Ranges (Per Student)\"])[\"Average Reading Score\"].mean()\n",
    "spending_passing_math = per_school_summary.groupby([\"Spending Ranges (Per Student)\"])[\"% Passing Math\"].mean()\n",
    "spending_passing_reading = per_school_summary.groupby([\"Spending Ranges (Per Student)\"])[\"% Passing Reading\"].mean()\n",
    "overall_passing_spending = per_school_summary.groupby([\"Spending Ranges (Per Student)\"])[\"% Overall Passing\"].mean()\n",
    "\n",
    "# Assemble into DataFrame\n",
    "spending_summary = pd.DataFrame({\n",
    "    \"Average Math Score\": spending_math_scores,\n",
    "    \"Average Reading Score\": spending_reading_scores,\n",
    "    \"% Passing Math\": spending_passing_math,\n",
    "    \"% Passing Reading\": spending_passing_reading,\n",
    "    \"% Overall Passing\": overall_passing_spending\n",
    "})\n"
   ]
  },
  {
   "cell_type": "code",
   "execution_count": 16,
   "id": "bdf8cca2",
   "metadata": {
    "scrolled": true
   },
   "outputs": [],
   "source": [
    "#Math Scores by Grade\n",
    "# Filter by grade and group by school name\n",
    "ninth_grade = school_data[school_data[\"grade\"] == \"9th\"]\n",
    "ms_ninth=ninth_grade.groupby(\"school_name\")[\"math_score\"].mean()\n",
    "\n",
    "tenth_grade = school_data[school_data[\"grade\"] == \"10th\"]\n",
    "ms_tenth=tenth_grade.groupby(\"school_name\")[\"math_score\"].mean()\n",
    "\n",
    "eleventh_grade = school_data[school_data[\"grade\"] == \"11th\"]\n",
    "ms_eleventh=eleventh_grade.groupby(\"school_name\")[\"math_score\"].mean()\n",
    "\n",
    "twelfth_grade = school_data[school_data[\"grade\"] == \"12th\"]\n",
    "ms_twelfth=twelfth_grade.groupby(\"school_name\")[\"math_score\"].mean()\n",
    "\n",
    "\n",
    "#Math scores by grade\n",
    "math_scores_by_grade = pd.DataFrame({\n",
    "    \"9th\": ms_ninth,\n",
    "    \"10th\": ms_tenth,\n",
    "    \"11th\": ms_eleventh,\n",
    "    \"12th\": ms_twelfth\n",
    "})"
   ]
  },
  {
   "cell_type": "code",
   "execution_count": 17,
   "id": "444e0ae2",
   "metadata": {},
   "outputs": [],
   "source": [
    "# Reading scores by grade\n",
    "ninth_grade = school_data[school_data[\"grade\"] == \"9th\"]\n",
    "rs_ninth=ninth_grade.groupby(\"school_name\")[\"reading_score\"].mean()\n",
    "\n",
    "tenth_grade = school_data[school_data[\"grade\"] == \"10th\"]\n",
    "rs_tenth=tenth_grade.groupby(\"school_name\")[\"reading_score\"].mean()\n",
    "\n",
    "eleventh_grade = school_data[school_data[\"grade\"] == \"11th\"]\n",
    "rs_eleventh=eleventh_grade.groupby(\"school_name\")[\"reading_score\"].mean()\n",
    "\n",
    "twelfth_grade = school_data[school_data[\"grade\"] == \"12th\"]\n",
    "rs_twelfth=twelfth_grade.groupby(\"school_name\")[\"reading_score\"].mean()\n",
    "\n",
    "reading_scores_by_grade = pd.DataFrame({\n",
    "    \"9th\": rs_ninth,\n",
    "    \"10th\": rs_tenth,\n",
    "    \"11th\":rs_eleventh,\n",
    "    \"12th\": rs_twelfth\n",
    "})"
   ]
  },
  {
   "cell_type": "code",
   "execution_count": 18,
   "id": "ae4f2789",
   "metadata": {},
   "outputs": [],
   "source": [
    "#Schools by School Size \n",
    "# Define the size bins and group names\n",
    "size_bins = [0, 1000, 2000, 5000]\n",
    "group_names = [\"Small (<1000)\", \"Medium (1000-2000)\", \"Large (2000-5000)\"]\n"
   ]
  },
  {
   "cell_type": "code",
   "execution_count": 19,
   "id": "9ffcccc8",
   "metadata": {},
   "outputs": [],
   "source": [
    "# Categorize sizes based on the bins\n",
    "per_school_summary[\"School Size\"] = pd.cut(per_school_summary[\"Total Students\"], size_bins, labels=group_names)\n"
   ]
  },
  {
   "cell_type": "code",
   "execution_count": 20,
   "id": "7708d369",
   "metadata": {},
   "outputs": [
    {
     "name": "stdout",
     "output_type": "stream",
     "text": [
      "<class 'pandas.core.frame.DataFrame'>\n",
      "Index: 15 entries, Bailey High School to Wright High School\n",
      "Data columns (total 11 columns):\n",
      " #   Column                         Non-Null Count  Dtype   \n",
      "---  ------                         --------------  -----   \n",
      " 0   School Type                    15 non-null     object  \n",
      " 1   Total Students                 15 non-null     int64   \n",
      " 2   Total School Budget            15 non-null     int64   \n",
      " 3   Per Student Budget             15 non-null     float64 \n",
      " 4   Average Math Score             15 non-null     float64 \n",
      " 5   Average Reading Score          15 non-null     float64 \n",
      " 6   % Passing Math                 15 non-null     float64 \n",
      " 7   % Passing Reading              15 non-null     float64 \n",
      " 8   % Overall Passing              15 non-null     float64 \n",
      " 9   Spending Ranges (Per Student)  15 non-null     category\n",
      " 10  School Size                    15 non-null     category\n",
      "dtypes: category(2), float64(6), int64(2), object(1)\n",
      "memory usage: 1.5+ KB\n"
     ]
    }
   ],
   "source": [
    "per_school_summary.info()"
   ]
  },
  {
   "cell_type": "code",
   "execution_count": 21,
   "id": "51dd3bc9",
   "metadata": {},
   "outputs": [],
   "source": [
    "# Calculate averages for the desired columns\n",
    "size_math_scores = per_school_summary.groupby([\"School Size\"])[\"Average Math Score\"].mean()\n",
    "size_reading_scores = per_school_summary.groupby([\"School Size\"])[\"Average Reading Score\"].mean()\n",
    "size_passing_math = per_school_summary.groupby([\"School Size\"])[\"% Passing Math\"].mean()\n",
    "size_passing_reading = per_school_summary.groupby([\"School Size\"])[\"% Passing Reading\"].mean()\n",
    "overall_passing_size = per_school_summary.groupby([\"School Size\"])[\"% Overall Passing\"].mean()"
   ]
  },
  {
   "cell_type": "code",
   "execution_count": 22,
   "id": "a533a316",
   "metadata": {},
   "outputs": [],
   "source": [
    "# Assemble into DataFrame\n",
    "size_summary = pd.DataFrame({\n",
    "    \"Average Math Score\": size_math_scores,\n",
    "    \"Average Reading Score\": size_reading_scores,\n",
    "    \"% Passing Math\": size_passing_math,\n",
    "    \"% Passing Reading\": size_passing_reading,\n",
    "    \"% Overall Passing\": overall_passing_size\n",
    "})\n"
   ]
  },
  {
   "cell_type": "code",
   "execution_count": 23,
   "id": "686d5f1b",
   "metadata": {},
   "outputs": [],
   "source": [
    "#Score by School Type \n",
    "# Group by type of school\n",
    "type_math_scores = per_school_summary.groupby([\"School Type\"])[\"Average Math Score\"].mean()\n",
    "type_reading_scores = per_school_summary.groupby([\"School Type\"])[\"Average Reading Score\"].mean()\n",
    "type_passing_math = per_school_summary.groupby([\"School Type\"])[\"% Passing Math\"].mean()\n",
    "type_passing_reading = per_school_summary.groupby([\"School Type\"])[\"% Passing Reading\"].mean()\n",
    "overall_passing_type = per_school_summary.groupby([\"School Type\"])[\"% Overall Passing\"].mean()\n",
    "\n",
    "# Assemble into DataFrame\n",
    "type_summary = pd.DataFrame({\n",
    "    \"Average Math Score\": type_math_scores,\n",
    "    \"Average Reading Score\": type_reading_scores,\n",
    "    \"% Passing Math\": type_passing_math,\n",
    "    \"% Passing Reading\": type_passing_reading,\n",
    "    \"% Overall Passing\": overall_passing_type\n",
    "})\n",
    "\n"
   ]
  },
  {
   "cell_type": "code",
   "execution_count": 24,
   "id": "ca4c9673",
   "metadata": {},
   "outputs": [
    {
     "data": {
      "text/html": [
       "<div>\n",
       "<style scoped>\n",
       "    .dataframe tbody tr th:only-of-type {\n",
       "        vertical-align: middle;\n",
       "    }\n",
       "\n",
       "    .dataframe tbody tr th {\n",
       "        vertical-align: top;\n",
       "    }\n",
       "\n",
       "    .dataframe thead th {\n",
       "        text-align: right;\n",
       "    }\n",
       "</style>\n",
       "<table border=\"1\" class=\"dataframe\">\n",
       "  <thead>\n",
       "    <tr style=\"text-align: right;\">\n",
       "      <th></th>\n",
       "      <th>Average Math Score</th>\n",
       "      <th>Average Reading Score</th>\n",
       "      <th>% Passing Math</th>\n",
       "      <th>% Passing Reading</th>\n",
       "      <th>% Overall Passing</th>\n",
       "    </tr>\n",
       "    <tr>\n",
       "      <th>School Type</th>\n",
       "      <th></th>\n",
       "      <th></th>\n",
       "      <th></th>\n",
       "      <th></th>\n",
       "      <th></th>\n",
       "    </tr>\n",
       "  </thead>\n",
       "  <tbody>\n",
       "    <tr>\n",
       "      <th>Charter</th>\n",
       "      <td>83.473852</td>\n",
       "      <td>83.896421</td>\n",
       "      <td>93.620830</td>\n",
       "      <td>96.586489</td>\n",
       "      <td>90.432244</td>\n",
       "    </tr>\n",
       "    <tr>\n",
       "      <th>District</th>\n",
       "      <td>76.956733</td>\n",
       "      <td>80.966636</td>\n",
       "      <td>66.548453</td>\n",
       "      <td>80.799062</td>\n",
       "      <td>53.672208</td>\n",
       "    </tr>\n",
       "  </tbody>\n",
       "</table>\n",
       "</div>"
      ],
      "text/plain": [
       "             Average Math Score  Average Reading Score  % Passing Math  \\\n",
       "School Type                                                              \n",
       "Charter               83.473852              83.896421       93.620830   \n",
       "District              76.956733              80.966636       66.548453   \n",
       "\n",
       "             % Passing Reading  % Overall Passing  \n",
       "School Type                                        \n",
       "Charter              96.586489          90.432244  \n",
       "District             80.799062          53.672208  "
      ]
     },
     "execution_count": 24,
     "metadata": {},
     "output_type": "execute_result"
    }
   ],
   "source": [
    "type_summary\n"
   ]
  },
  {
   "cell_type": "code",
   "execution_count": null,
   "id": "659ac716",
   "metadata": {},
   "outputs": [],
   "source": []
  }
 ],
 "metadata": {
  "kernelspec": {
   "display_name": "Python 3 (ipykernel)",
   "language": "python",
   "name": "python3"
  },
  "language_info": {
   "codemirror_mode": {
    "name": "ipython",
    "version": 3
   },
   "file_extension": ".py",
   "mimetype": "text/x-python",
   "name": "python",
   "nbconvert_exporter": "python",
   "pygments_lexer": "ipython3",
   "version": "3.11.4"
  }
 },
 "nbformat": 4,
 "nbformat_minor": 5
}
